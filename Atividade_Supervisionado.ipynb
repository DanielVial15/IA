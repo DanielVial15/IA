{
  "nbformat": 4,
  "nbformat_minor": 0,
  "metadata": {
    "colab": {
      "name": "Atividade_Supervisionado.ipynb",
      "provenance": [],
      "include_colab_link": true
    },
    "kernelspec": {
      "name": "python3",
      "display_name": "Python 3"
    },
    "language_info": {
      "name": "python"
    }
  },
  "cells": [
    {
      "cell_type": "markdown",
      "metadata": {
        "id": "view-in-github",
        "colab_type": "text"
      },
      "source": [
        "<a href=\"https://colab.research.google.com/github/DanielVial15/IA/blob/main/Atividade_Supervisionado.ipynb\" target=\"_parent\"><img src=\"https://colab.research.google.com/assets/colab-badge.svg\" alt=\"Open In Colab\"/></a>"
      ]
    },
    {
      "cell_type": "code",
      "metadata": {
        "id": "N3n50BfVeDfL"
      },
      "source": [
        "from sklearn.datasets import load_breast_cancer\n",
        "import pandas as pd\n",
        "import numpy as np\n",
        "import matplotlib.pyplot as plt\n",
        "import seaborn as sns\n",
        "from sklearn.preprocessing import StandardScaler"
      ],
      "execution_count": null,
      "outputs": []
    },
    {
      "cell_type": "markdown",
      "metadata": {
        "id": "7pBM0sz8rNbu"
      },
      "source": [
        "## Leitura do Dataset"
      ]
    },
    {
      "cell_type": "code",
      "metadata": {
        "id": "Ze8Z5tNKjmAX",
        "colab": {
          "base_uri": "https://localhost:8080/"
        },
        "outputId": "21c4734a-e6ec-4bab-b0bf-7c20696f3831"
      },
      "source": [
        "data = load_breast_cancer()\n",
        "df = pd.read_csv('PKDD.csv')"
      ],
      "execution_count": null,
      "outputs": [
        {
          "output_type": "stream",
          "name": "stderr",
          "text": [
            "/usr/local/lib/python3.7/dist-packages/IPython/core/interactiveshell.py:2718: DtypeWarning: Columns (51,52) have mixed types.Specify dtype option on import or set low_memory=False.\n",
            "  interactivity=interactivity, compiler=compiler, result=result)\n"
          ]
        }
      ]
    },
    {
      "cell_type": "code",
      "metadata": {
        "id": "C03ntHPGoH7q"
      },
      "source": [
        "df.head()"
      ],
      "execution_count": null,
      "outputs": []
    },
    {
      "cell_type": "code",
      "metadata": {
        "id": "5pHcKOoF2NZh"
      },
      "source": [
        "# Tipos de variáveis\n",
        "df.dtypes"
      ],
      "execution_count": null,
      "outputs": []
    },
    {
      "cell_type": "code",
      "metadata": {
        "id": "A8zv7pxlJYaZ"
      },
      "source": [
        "nova = []\n",
        "for i in df:\n",
        "      nova.append(np.int64(i))\n",
        "print(nova)"
      ],
      "execution_count": null,
      "outputs": []
    },
    {
      "cell_type": "code",
      "metadata": {
        "id": "0-uY0oPp2Vip"
      },
      "source": [
        "# Soma da quantidade de linhas valores nulos\n",
        "df.isna().sum()"
      ],
      "execution_count": null,
      "outputs": []
    },
    {
      "cell_type": "code",
      "metadata": {
        "id": "9IRLKjCs24BR"
      },
      "source": [
        "# Visualize a distribuição por colunas\n",
        "sns.distplot(df['AGE'], bins = 5)\n",
        "plt.title('Distribuição')\n",
        "plt.show()"
      ],
      "execution_count": null,
      "outputs": []
    },
    {
      "cell_type": "code",
      "metadata": {
        "id": "Xohj2oxn8RD5"
      },
      "source": [
        "df['MONTHS_IN_RESIDENCE'].fillna(0,inplace=True)\n",
        "df['RESIDENCE_TYPE'].fillna(0,inplace=True)\n",
        "df['EDUCATION_LEVEL.1'].fillna(0,inplace=True)\n",
        "df['MATE_PROFESSION_CODE'].fillna(0,inplace=True)\n",
        "df['OCCUPATION_TYPE'].fillna(0,inplace=True)\n",
        "df['PROFESSION_CODE'].fillna(0,inplace=True)\n",
        "df['PROFESSIONAL_CITY'].fillna('UNANMED',inplace=True)\n",
        "df['PROFESSIONAL_BOROUGH'].fillna('UNANMED',inplace=True)"
      ],
      "execution_count": null,
      "outputs": []
    },
    {
      "cell_type": "code",
      "metadata": {
        "id": "nsrK2qc_BA2H"
      },
      "source": [
        "df['PROFESSIONAL_CITY'] = df['PROFESSIONAL_CITY'].str.upper()\n",
        "df['PROFESSIONAL_BOROUGH'] = df['PROFESSIONAL_BOROUGH'].str.upper()\n",
        "df['RESIDENCIAL_BOROUGH'] = df['RESIDENCIAL_BOROUGH'].str.upper()\n",
        "df['RESIDENCIAL_CITY'] = df['RESIDENCIAL_CITY'].str.upper()\n",
        "df['APPLICATION_SUBMISSION_TYPE'] = df['APPLICATION_SUBMISSION_TYPE'].str.upper()\n",
        "df['CITY_OF_BIRTH'] = df['CITY_OF_BIRTH'].str.upper()"
      ],
      "execution_count": null,
      "outputs": []
    },
    {
      "cell_type": "markdown",
      "metadata": {
        "id": "I_zhTWWordh7"
      },
      "source": [
        "### Separar Target e Dataset "
      ]
    },
    {
      "cell_type": "code",
      "metadata": {
        "id": "wnMtPPUHrj0v"
      },
      "source": [
        "target = pd.read_csv('PKDD.csv')"
      ],
      "execution_count": null,
      "outputs": []
    },
    {
      "cell_type": "code",
      "metadata": {
        "id": "YXMqxYEpLELd"
      },
      "source": [
        "len(target)"
      ],
      "execution_count": null,
      "outputs": []
    },
    {
      "cell_type": "code",
      "metadata": {
        "id": "XHQN1NsOJB6e"
      },
      "source": [
        "len(df)"
      ],
      "execution_count": null,
      "outputs": []
    },
    {
      "cell_type": "code",
      "metadata": {
        "id": "IrFtPJKc71AR"
      },
      "source": [
        "target"
      ],
      "execution_count": null,
      "outputs": []
    },
    {
      "cell_type": "markdown",
      "metadata": {
        "id": "5slmKOsOrGNz"
      },
      "source": [
        "## Padronização, Limpeza e Normalização"
      ]
    },
    {
      "cell_type": "code",
      "metadata": {
        "id": "XW8gYBaKrUaq"
      },
      "source": [
        "# Normalização Standard\n",
        "from sklearn.preprocessing import StandardScaler\n",
        "\n",
        "scaler = StandardScaler()\n",
        "scaler.fit(df)\n",
        "df = scaler.transform(df)"
      ],
      "execution_count": null,
      "outputs": []
    },
    {
      "cell_type": "code",
      "metadata": {
        "id": "yhcA9_4eFNTI"
      },
      "source": [
        "# Normalização MaxMIn\n",
        "\n",
        "from sklearn.preprocessing import MinMaxScaler\n",
        "scaler = MinMaxScaler()\n",
        "scaler.fit(df)\n",
        "df = scaler.transform(df)"
      ],
      "execution_count": null,
      "outputs": []
    },
    {
      "cell_type": "markdown",
      "metadata": {
        "id": "F4RsQ0NwrU8H"
      },
      "source": [
        "## Separar Treino e Teste"
      ]
    },
    {
      "cell_type": "code",
      "metadata": {
        "id": "XJtGTl0irXjw"
      },
      "source": [
        "from sklearn.model_selection import train_test_split\n",
        "X_train, X_test, y_train, y_test = train_test_split(df,target,test_size=0.20, random_state=42)"
      ],
      "execution_count": null,
      "outputs": []
    },
    {
      "cell_type": "code",
      "metadata": {
        "id": "KW37Vk2-Nb5J"
      },
      "source": [
        "print(X_train)"
      ],
      "execution_count": null,
      "outputs": []
    },
    {
      "cell_type": "code",
      "metadata": {
        "id": "WoYMHzwoNhwV"
      },
      "source": [
        "print(y_train)"
      ],
      "execution_count": null,
      "outputs": []
    },
    {
      "cell_type": "code",
      "metadata": {
        "id": "jSTUBywBNubf"
      },
      "source": [
        "print(y_test)"
      ],
      "execution_count": null,
      "outputs": []
    },
    {
      "cell_type": "markdown",
      "metadata": {
        "id": "LYFE32WXqZRK"
      },
      "source": [
        "## MODELOS"
      ]
    },
    {
      "cell_type": "code",
      "metadata": {
        "id": "zeLf7BhaFUkH"
      },
      "source": [
        "from sklearn.linear_model import LogisticRegression\n",
        "from sklearn.neighbors import KNeighborsClassifier\n",
        "from sklearn import metrics"
      ],
      "execution_count": null,
      "outputs": []
    },
    {
      "cell_type": "markdown",
      "metadata": {
        "id": "Yc-aVzW7q-hm"
      },
      "source": [
        "### Regressão Logística"
      ]
    },
    {
      "cell_type": "code",
      "metadata": {
        "id": "qSkiKdrvFZ7I"
      },
      "source": [
        "model = LogisticRegression(random_state=2)\n",
        "model.fit(X_train,y_train)"
      ],
      "execution_count": null,
      "outputs": []
    },
    {
      "cell_type": "code",
      "metadata": {
        "id": "MD5_CmhwGlMI"
      },
      "source": [
        "# PREVER os VALORES/TESTAR\n",
        "result = model.predict(X_test)\n",
        "print(metrics.classification_report(y_test,result))"
      ],
      "execution_count": null,
      "outputs": []
    },
    {
      "cell_type": "code",
      "metadata": {
        "id": "gBfUwCfOGndL"
      },
      "source": [
        "metrics.plot_roc_curve(model,X_test,y_test)\n",
        "plt.show()"
      ],
      "execution_count": null,
      "outputs": []
    },
    {
      "cell_type": "markdown",
      "metadata": {
        "id": "pB0Ag8AqqWlw"
      },
      "source": [
        "### KNN"
      ]
    },
    {
      "cell_type": "code",
      "metadata": {
        "id": "OIHMtV5_qJCq"
      },
      "source": [
        "model = KNeighborsClassifier(n_neighbors=8)\n",
        "# TREINAR o MODELO\n",
        "model.fit(X_train,y_train)\n"
      ],
      "execution_count": null,
      "outputs": []
    },
    {
      "cell_type": "code",
      "metadata": {
        "id": "r-xxrIo6qQ1L"
      },
      "source": [
        "# PREVER os VALORES/TESTAR\n",
        "result = model.predict(X_test)\n",
        "print(metrics.classification_report(y_test,result))"
      ],
      "execution_count": null,
      "outputs": []
    },
    {
      "cell_type": "code",
      "metadata": {
        "id": "kDFo_fUbqiUN"
      },
      "source": [
        "metrics.plot_roc_curve(model,X_test,y_test)\n",
        "plt.show()"
      ],
      "execution_count": null,
      "outputs": []
    },
    {
      "cell_type": "code",
      "metadata": {
        "id": "q36f0X0qTy7i"
      },
      "source": [
        "from sklearn.metrics import classification_report\n",
        "print(classification_report(y_test,result))"
      ],
      "execution_count": null,
      "outputs": []
    },
    {
      "cell_type": "markdown",
      "metadata": {
        "id": "spc07e2Fql2G"
      },
      "source": [
        "### Naive Bayes"
      ]
    },
    {
      "cell_type": "code",
      "metadata": {
        "id": "dbavtWAwG5ea"
      },
      "source": [
        "from sklearn.naive_bayes import GaussianNB\n",
        "\n",
        "gnb = GaussianNB()\n",
        "y_pred = gnb.fit(X_train, y_train)"
      ],
      "execution_count": null,
      "outputs": []
    },
    {
      "cell_type": "code",
      "metadata": {
        "id": "n49mm3IMG7xb"
      },
      "source": [
        "result = gnb.predict(X_test)\n",
        "print(metrics.classification_report(y_test,result))"
      ],
      "execution_count": null,
      "outputs": []
    },
    {
      "cell_type": "code",
      "metadata": {
        "id": "rk_xaB2_G96G"
      },
      "source": [
        "metrics.plot_roc_curve(gnb,X_test,y_test)\n",
        "plt.show()"
      ],
      "execution_count": null,
      "outputs": []
    },
    {
      "cell_type": "markdown",
      "metadata": {
        "id": "5UsuT4LGqrg3"
      },
      "source": [
        "### SVM"
      ]
    },
    {
      "cell_type": "code",
      "metadata": {
        "id": "cUkLDksPHBAY"
      },
      "source": [
        "from sklearn import svm\n",
        "\n",
        "sv = svm.SVC()\n",
        "y_pred = sv.fit(X_train, y_train)"
      ],
      "execution_count": null,
      "outputs": []
    },
    {
      "cell_type": "code",
      "metadata": {
        "id": "OTxP63amHC-H"
      },
      "source": [
        "result = sv.predict(X_test)\n",
        "print(metrics.classification_report(y_test,result))"
      ],
      "execution_count": null,
      "outputs": []
    },
    {
      "cell_type": "code",
      "metadata": {
        "id": "a5nWNnuvHEqC"
      },
      "source": [
        "metrics.plot_roc_curve(sv,X_test,y_test)\n",
        "plt.show()"
      ],
      "execution_count": null,
      "outputs": []
    },
    {
      "cell_type": "markdown",
      "metadata": {
        "id": "8_trmzWKq0Dk"
      },
      "source": [
        "### Árvore de Decisão"
      ]
    },
    {
      "cell_type": "code",
      "metadata": {
        "id": "bVChWhdJHHYI"
      },
      "source": [
        "from sklearn.tree import DecisionTreeClassifier\n",
        "\n",
        "dtc = DecisionTreeClassifier(max_depth=5)\n",
        "y_pred = dtc.fit(X_train, y_train)"
      ],
      "execution_count": null,
      "outputs": []
    },
    {
      "cell_type": "code",
      "metadata": {
        "id": "olcauztMHJtv"
      },
      "source": [
        "result = dtc.predict(X_test)\n",
        "print(metrics.classification_report(y_test,result))"
      ],
      "execution_count": null,
      "outputs": []
    },
    {
      "cell_type": "code",
      "metadata": {
        "id": "5WLlHDVCHLay"
      },
      "source": [
        "metrics.plot_roc_curve(dtc,X_test,y_test)\n",
        "plt.show()"
      ],
      "execution_count": null,
      "outputs": []
    },
    {
      "cell_type": "markdown",
      "metadata": {
        "id": "71R9LLRsq33W"
      },
      "source": [
        "### Random Forest"
      ]
    },
    {
      "cell_type": "code",
      "metadata": {
        "id": "YV1XwCWUHN4H"
      },
      "source": [
        "from sklearn.ensemble import RandomForestClassifier\n",
        "\n",
        "rfr = RandomForestClassifier(n_estimators=20)\n",
        "y_pred = rfr.fit(X_train, y_train)"
      ],
      "execution_count": null,
      "outputs": []
    },
    {
      "cell_type": "code",
      "metadata": {
        "id": "vW0ay1P-HRRf"
      },
      "source": [
        "result = rfr.predict(X_test)\n",
        "print(metrics.classification_report(y_test,result))"
      ],
      "execution_count": null,
      "outputs": []
    },
    {
      "cell_type": "code",
      "metadata": {
        "id": "S_t8p9qrHSzI"
      },
      "source": [
        "metrics.plot_roc_curve(rfr,X_test,y_test)\n",
        "plt.show()"
      ],
      "execution_count": null,
      "outputs": []
    },
    {
      "cell_type": "markdown",
      "metadata": {
        "id": "mpJ97WECq64O"
      },
      "source": [
        "### XGBoost"
      ]
    },
    {
      "cell_type": "code",
      "metadata": {
        "id": "XPC_YQzjHVcc"
      },
      "source": [
        "import xgboost as xgb\n",
        "\n",
        "xgb_model = xgb.XGBClassifier(objective=\"binary:logistic\", random_state=42, max_depth=50, n_estimators=200)\n",
        "y_pred = xgb_model.fit(X_train, y_train)"
      ],
      "execution_count": null,
      "outputs": []
    },
    {
      "cell_type": "code",
      "metadata": {
        "id": "AJ_dcTbNHX7x"
      },
      "source": [
        "result = xgb_model.predict(X_test)\n",
        "print(metrics.classification_report(y_test,result))"
      ],
      "execution_count": null,
      "outputs": []
    },
    {
      "cell_type": "code",
      "metadata": {
        "id": "QNDwH2dRHZdG"
      },
      "source": [
        "metrics.plot_roc_curve(xgb_model,X_test,y_test)\n",
        "plt.show()"
      ],
      "execution_count": null,
      "outputs": []
    }
  ]
}